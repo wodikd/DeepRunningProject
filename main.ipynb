{
 "cells": [
  {
   "cell_type": "code",
   "id": "initial_id",
   "metadata": {
    "collapsed": true,
    "ExecuteTime": {
     "end_time": "2025-05-30T08:44:43.570135Z",
     "start_time": "2025-05-30T08:44:41.496378Z"
    }
   },
   "source": [
    "import os\n",
    "import time\n",
    "\n",
    "from pathlib import Path\n",
    "from src.mtcnn_wrapper import FaceDetector\n",
    "from src.extract_face_from_vedio import ExtractFaceFromVideo\n",
    "from src.async_processer import *"
   ],
   "outputs": [],
   "execution_count": 2
  },
  {
   "metadata": {},
   "cell_type": "code",
   "outputs": [],
   "execution_count": null,
   "source": [
    "path = r'video/Rick_Astley_-_Never_Gonna_Give_You_Up'\n",
    "ExtractFaceFromVideo.extract_face_from_video(video_path=path, passing=10)"
   ],
   "id": "3eba7fe7e0c8cca3"
  }
 ],
 "metadata": {
  "kernelspec": {
   "display_name": "Python 3",
   "language": "python",
   "name": "python3"
  },
  "language_info": {
   "codemirror_mode": {
    "name": "ipython",
    "version": 2
   },
   "file_extension": ".py",
   "mimetype": "text/x-python",
   "name": "python",
   "nbconvert_exporter": "python",
   "pygments_lexer": "ipython2",
   "version": "2.7.6"
  }
 },
 "nbformat": 4,
 "nbformat_minor": 5
}
